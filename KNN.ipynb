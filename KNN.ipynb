{
  "nbformat": 4,
  "nbformat_minor": 0,
  "metadata": {
    "colab": {
      "name": "KNN",
      "provenance": [],
      "authorship_tag": "ABX9TyPlWda0JHoYypHc8gEoxcnA",
      "include_colab_link": true
    },
    "kernelspec": {
      "name": "python3",
      "display_name": "Python 3"
    }
  },
  "cells": [
    {
      "cell_type": "markdown",
      "metadata": {
        "id": "view-in-github",
        "colab_type": "text"
      },
      "source": [
        "<a href=\"https://colab.research.google.com/github/pysaurav/ML-Track/blob/master/KNN.ipynb\" target=\"_parent\"><img src=\"https://colab.research.google.com/assets/colab-badge.svg\" alt=\"Open In Colab\"/></a>"
      ]
    },
    {
      "cell_type": "code",
      "metadata": {
        "id": "ngZZlgCF3Mvb",
        "colab_type": "code",
        "colab": {}
      },
      "source": [
        "import pandas as pd\n",
        "from math import sqrt\n",
        "import numpy as np\n",
        "from scipy.spatial import distance"
      ],
      "execution_count": 0,
      "outputs": []
    },
    {
      "cell_type": "code",
      "metadata": {
        "id": "9XjKvt11Cgoj",
        "colab_type": "code",
        "colab": {}
      },
      "source": [
        "df = pd.read_csv('knnData.csv')\n",
        "df.head()"
      ],
      "execution_count": 0,
      "outputs": []
    },
    {
      "cell_type": "code",
      "metadata": {
        "id": "Xp_JcAJMCm7X",
        "colab_type": "code",
        "colab": {}
      },
      "source": [
        "train_data =[] \n",
        "for index, rows in df.iterrows(): \n",
        "    train_item =[rows.trainPoints_x1, rows.trainPoints_x2, rows.trainLabel] \n",
        "    train_data.append(train_item) \n",
        "    \n",
        "test_data =[] \n",
        "for index, rows in df.iterrows():\n",
        "    test_item =[rows.testPoints_x1, rows.testPoints_x2, rows.testLabel] \n",
        "    test_data.append(test_item)"
      ],
      "execution_count": 0,
      "outputs": []
    },
    {
      "cell_type": "code",
      "metadata": {
        "id": "inNoxyzsCu3b",
        "colab_type": "code",
        "colab": {}
      },
      "source": [
        "#Initializing the methods to realize the knn classifier\n",
        "\n",
        "\n",
        "def nearest_neighbors(train, test_row, num_neighbors, distance_measure):\n",
        "    distances = []\n",
        "    for train_row in train:\n",
        "        dist = distance_measure(test_row, train_row)\n",
        "        distances.append((train_row, dist))\n",
        "    distances.sort(key=lambda tup: tup[1])\n",
        "    neighbors = []\n",
        "    for i in range(num_neighbors):\n",
        "        neighbors.append(distances[i][0])\n",
        "    return neighbors\n",
        "\n",
        "def predict_classification(train, test_row, num_neighbors, distance_measure):\n",
        "    neighbors = nearest_neighbors(train, test_row, num_neighbors, distance_measure)\n",
        "    output_values = [row[-1] for row in neighbors]\n",
        "    prediction = max(set(output_values), key=output_values.count)\n",
        "    return prediction\n",
        "\n",
        "def accuracy_metric(actual, predicted):\n",
        "    correct = 0\n",
        "    for i in range(len(actual)):\n",
        "        if actual[i] == predicted[i]:\n",
        "            correct += 1\n",
        "    return correct / float(len(actual)) * 100.0\n",
        "\n",
        "def k_nearest_neighbors(train, test, num_neighbors, distance_measure):\n",
        "    predictions = []\n",
        "    for row in test:\n",
        "        output = predict_classification(train, row, num_neighbors, distance_measure)\n",
        "        predictions.append(output)\n",
        "    return(predictions)"
      ],
      "execution_count": 0,
      "outputs": []
    },
    {
      "cell_type": "code",
      "metadata": {
        "id": "OxDAP6iZCzu4",
        "colab_type": "code",
        "colab": {}
      },
      "source": [
        "#Accuracy Using L2 Norm or Euclidean\n",
        "\n",
        "\n",
        "def L2_norm_distance(row1, row2):\n",
        "    return distance.euclidean(row1[:2], row2[:2])\n",
        "\n",
        "num_neighbors = 3\n",
        "scores = []\n",
        "predicted = k_nearest_neighbors(train_data, test_data, num_neighbors, L2_norm_distance)\n",
        "\n",
        "actual = [row[-1] for row in test_data]\n",
        "accuracy = accuracy_metric(actual, predicted)\n",
        "scores.append(accuracy)\n",
        "print('Mean Accuracy using L2 Norm: %.2f%%' % (sum(scores)/float(len(scores))))\n"
      ],
      "execution_count": 0,
      "outputs": []
    },
    {
      "cell_type": "code",
      "metadata": {
        "id": "7uAPp8ctCz6G",
        "colab_type": "code",
        "colab": {}
      },
      "source": [
        "#Accuracy using L1 Norm or cityblock\n",
        "\n",
        "\n",
        "def L1_norm_distance(row1, row2):\n",
        "    return distance.cityblock(row1[:2], row2[:2])\n",
        "\n",
        "num_neighbors = 3\n",
        "scores = []\n",
        "predicted = k_nearest_neighbors(train_data, test_data, num_neighbors, L1_norm_distance)\n",
        "\n",
        "actual = [row[-1] for row in test_data]\n",
        "accuracy = accuracy_metric(actual, predicted)\n",
        "scores.append(accuracy)\n",
        "print('Mean Accuracy using L1 Norm: %.2f%%' % (sum(scores)/float(len(scores))))"
      ],
      "execution_count": 0,
      "outputs": []
    },
    {
      "cell_type": "code",
      "metadata": {
        "id": "QH1_kPKFC94b",
        "colab_type": "code",
        "colab": {}
      },
      "source": [
        "#Accuracy using L infinite or chebyshev distance\n",
        "\n",
        "\n",
        "def L_infinite_norm_distance(row1, row2):\n",
        "    return distance.chebyshev(row1[:2], row2[:2])\n",
        "\n",
        "num_neighbors = 3\n",
        "scores = []\n",
        "predicted = k_nearest_neighbors(train_data, test_data, num_neighbors, L_infinite_norm_distance)\n",
        "\n",
        "actual = [row[-1] for row in test_data]\n",
        "accuracy = accuracy_metric(actual, predicted)\n",
        "scores.append(accuracy)\n",
        "print('Mean Accuracy using L-infinite Norm: %.2f%%' % (sum(scores)/float(len(scores))))"
      ],
      "execution_count": 0,
      "outputs": []
    }
  ]
}